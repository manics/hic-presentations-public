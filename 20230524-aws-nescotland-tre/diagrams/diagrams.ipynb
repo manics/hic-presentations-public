{
 "cells": [
  {
   "cell_type": "code",
   "execution_count": null,
   "id": "3e3c2f80-363a-42fc-a3a5-1ba7a16d59d8",
   "metadata": {},
   "outputs": [],
   "source": [
    "from diagrams import Cluster, Diagram, Edge\n",
    "from diagrams.aws import compute, database, enduser, integration, network, security, storage\n",
    "from diagrams.custom import Custom\n",
    "from diagrams.generic import storage as generic_storage\n",
    "from diagrams.onprem import client\n",
    "from diagrams. onprem import network as onprem_network\n",
    "from diagrams.programming import flowchart, framework, language\n",
    "\n",
    "\n",
    "show_diagrams = True\n",
    "\n",
    "def display_diagram(diag):\n",
    "    if show_diagrams:\n",
    "        display(diag)"
   ]
  },
  {
   "cell_type": "code",
   "execution_count": null,
   "id": "8691bb2a-c98a-4a2c-9a4f-f695d1710c86",
   "metadata": {},
   "outputs": [],
   "source": [
    "graph_attr = {\n",
    "    \"layout\": \"dot\",\n",
    "    \"compound\": \"true\",\n",
    "}\n",
    "\n",
    "transparent_bg = {\n",
    "    \"label\":\"x\",\n",
    "    \"bgcolor\":\"transparent\",\n",
    "    # \"penwidth\":\"0.0\"    \n",
    "}"
   ]
  },
  {
   "cell_type": "code",
   "execution_count": null,
   "id": "2f629b68-1cc3-4f92-a97c-efb4b286bdc7",
   "metadata": {},
   "outputs": [],
   "source": [
    "with Diagram(filename=\"workspaces\", outformat=\"png\", show=False, direction=\"LR\", graph_attr=graph_attr) as diag:\n",
    "    with Cluster(\"AWS TRE Account\", graph_attr=transparent_bg):\n",
    "        with Cluster(\"Project A S3\"):\n",
    "            projecta = [\n",
    "                storage.S3(\"Study A\"),\n",
    "                storage.SimpleStorageServiceS3Bucket(\"User-1 files\"),\n",
    "            ]\n",
    "        with Cluster(\"Project B S3\"):\n",
    "            projectb = [\n",
    "                storage.S3(\"Study B\"),\n",
    "                storage.SimpleStorageServiceS3Bucket(\"User-1 files\"),\n",
    "            ]\n",
    "\n",
    "    with Cluster(\"AWS Researchers Account\", graph_attr=transparent_bg):\n",
    "        with Cluster(\"Secure compute A\"):\n",
    "            windows = compute.EC2Instance(\"Windows\")\n",
    "            rdp = enduser.Appstream20(\"RDP\")\n",
    "        with Cluster(\"Secure compute B\"):\n",
    "            hpc = compute.Batch(\"HPC\")\n",
    "            ubuntu = compute.EC2(\"Ubuntu\")\n",
    "            vnc = enduser.Appstream20(\"VNC\")\n",
    "\n",
    "    projecta[1] - windows << rdp\n",
    "    [projectb[0] - hpc, projectb[1]] - ubuntu << vnc\n",
    "    [rdp, vnc] << client.User(\"User-1\")\n",
    "\n",
    "display_diagram(diag)"
   ]
  },
  {
   "cell_type": "code",
   "execution_count": null,
   "id": "2a3a4f0b-9b18-43af-af14-810f62b8d7ca",
   "metadata": {},
   "outputs": [],
   "source": [
    "with Diagram(filename=\"researcher-network\", outformat=\"png\", show=False, direction=\"LR\", graph_attr=graph_attr) as diag:\n",
    "\n",
    "    with Cluster(\"Shared services\"):\n",
    "        services = [\n",
    "            compute.EC2Instance(\"License server\"),\n",
    "            compute.EC2Instance(\"Anti-virus proxy\"),\n",
    "            compute.EC2Instance(\"Package proxy\"),\n",
    "        ]\n",
    "        network_services = network.VPC(\"Services network\")\n",
    "        gateway = network.NATGateway(\"NAT Gateway\")\n",
    "        services - network_services - gateway\n",
    "\n",
    "    gateway - onprem_network.Internet(\"\")\n",
    "    peer = network.VPCPeering(\"\")\n",
    "\n",
    "    with Cluster(\"Project workspace\"):\n",
    "        u1b = compute.EC2Instance(\"User 1\")\n",
    "        sb = storage.S3(\"Data B\")\n",
    "        u1b - sb\n",
    "        network_services - peer - u1b\n",
    "    # u1a - Edge(taillabel=\"X\",style=\"dotted\",fontcolor=\"red\",labeldistance=\"3\",labelangle=\"0\") - u1b\n",
    "\n",
    "display_diagram(diag)"
   ]
  },
  {
   "cell_type": "markdown",
   "id": "ed9318fb-d640-47e0-b264-4d4a6ff66b07",
   "metadata": {},
   "source": [
    "## Researcher web UI"
   ]
  },
  {
   "cell_type": "code",
   "execution_count": null,
   "id": "72a83353-a3cb-415b-8f7a-f82359498d79",
   "metadata": {},
   "outputs": [],
   "source": [
    "ga = graph_attr.copy()\n",
    "#ga[\"size\"] = \"100,!10\"\n",
    "# ga[\"layout\"] = \"neato\"\n",
    "\n",
    "with Diagram(filename=\"researcher-webui\", outformat=\"png\", show=False,\n",
    "             direction=\"LR\", graph_attr=ga) as diag:\n",
    "\n",
    "    with Cluster(\"TRE application\"):\n",
    "        kc = Custom(\"Keycloak identity\", \"./keycloak-logo.png\")\n",
    "        cog = security.Cognito(\"Cognito\")\n",
    "        react = framework.React(\"React front-end\")\n",
    "        db = database.Dynamodb(\"DynamoDB\")\n",
    "        logic = integration.StepFunctions(\"Step functions/Lambda\")\n",
    "\n",
    "    kc - cog\n",
    "    db - logic\n",
    "\n",
    "    researcher = client.User(\"Researcher\")\n",
    "    logic - react - researcher\n",
    "\n",
    "display_diagram(diag)"
   ]
  },
  {
   "cell_type": "code",
   "execution_count": null,
   "id": "da235567-53bc-486f-b1ab-544285a2ce91",
   "metadata": {},
   "outputs": [],
   "source": []
  },
  {
   "cell_type": "markdown",
   "id": "afb8bc48-c084-4cbb-b951-6f70df98348c",
   "metadata": {},
   "source": [
    "## TRE researcher workspace diagram"
   ]
  },
  {
   "cell_type": "code",
   "execution_count": null,
   "id": "6c77be54-7d0d-4dc1-bbcd-4a08bfdb5189",
   "metadata": {
    "tags": []
   },
   "outputs": [],
   "source": [
    "ga = graph_attr.copy()\n",
    "#ga[\"size\"] = \"100,!10\"\n",
    "#ga[\"layout\"] = \"neato\"\n",
    "\n",
    "with Diagram(filename=\"researcher-workspace\", outformat=\"png\", show=False,\n",
    "             direction=\"LR\", graph_attr=ga) as diag:\n",
    "    #, graph_attr=transparent_bg\n",
    "\n",
    "    with Cluster(\"AWS workspace account\"):\n",
    "        s_rw = storage.S3(\"User read-write\")\n",
    "        with Cluster(\"CloudFormation stack\"):\n",
    "            w = compute.EC2Instance(\"Windows EC2\")\n",
    "            appstream = enduser.Appstream20(\"Appstream RDP\")\n",
    "        \n",
    "    with Cluster(\"AWS Data account\"):\n",
    "        s_raw = storage.S3(\"Sensitive data\")\n",
    "\n",
    "    # client.User(\"Data Manager\") >> s_raw\n",
    "    (s_raw, s_rw) - w << appstream << Edge(label=\"Virtual desktop only\", minlen=\"2\") >> client.User(\"Researcher\")\n",
    " \n",
    "display_diagram(diag)"
   ]
  },
  {
   "cell_type": "code",
   "execution_count": null,
   "id": "fec9a41b-6900-4380-b41e-f59095e9541a",
   "metadata": {},
   "outputs": [],
   "source": []
  }
 ],
 "metadata": {
  "kernelspec": {
   "display_name": "Python 3 (ipykernel)",
   "language": "python",
   "name": "python3"
  },
  "language_info": {
   "codemirror_mode": {
    "name": "ipython",
    "version": 3
   },
   "file_extension": ".py",
   "mimetype": "text/x-python",
   "name": "python",
   "nbconvert_exporter": "python",
   "pygments_lexer": "ipython3",
   "version": "3.10.11"
  }
 },
 "nbformat": 4,
 "nbformat_minor": 5
}
